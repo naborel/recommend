{
 "cells": [
  {
   "cell_type": "code",
   "execution_count": null,
   "metadata": {},
   "outputs": [],
   "source": [
    "import pandas as pd\n",
    "import numpy as np\n",
    "import scipy.stats as stats\n",
    "\n",
    "#import plotly.express as px\n",
    "import plotly.graph_objects as go\n",
    "import chart_studio\n",
    "\n",
    "from credentials import credentials"
   ]
  },
  {
   "cell_type": "code",
   "execution_count": null,
   "metadata": {},
   "outputs": [],
   "source": [
    "#chart_studio.tools.set_credentials_file(username=credentials['username'], api_key=credentials['api_key'])"
   ]
  },
  {
   "cell_type": "markdown",
   "metadata": {},
   "source": [
    "<h5>Load match data into dataFrame from CSV</h5>"
   ]
  },
  {
   "cell_type": "code",
   "execution_count": null,
   "metadata": {},
   "outputs": [],
   "source": [
    "match_df = pd.read_csv('data.csv')\n",
    "match_df.head()"
   ]
  },
  {
   "cell_type": "markdown",
   "metadata": {},
   "source": [
    "<h5>Add ref nationality to match_df</h5>"
   ]
  },
  {
   "cell_type": "code",
   "execution_count": null,
   "metadata": {},
   "outputs": [],
   "source": [
    "refNationality_df = pd.read_csv('refNames.csv', names = ['refName', 'refNationality'])\n",
    "refNationality_df.head()"
   ]
  },
  {
   "cell_type": "code",
   "execution_count": null,
   "metadata": {},
   "outputs": [],
   "source": [
    "match_df = pd.merge(match_df, refNationality_df, on = 'refName', how = 'left')\n",
    "match_df.head()"
   ]
  },
  {
   "cell_type": "markdown",
   "metadata": {},
   "source": [
    "<h5>Add team nationality to match_df</h5>"
   ]
  },
  {
   "cell_type": "code",
   "execution_count": null,
   "metadata": {},
   "outputs": [],
   "source": [
    "teamNationality_df = pd.read_csv('TeamCountries.csv', names = ['teamName', 'teamNationality'])\n",
    "teamNationality_df.head()"
   ]
  },
  {
   "cell_type": "code",
   "execution_count": null,
   "metadata": {},
   "outputs": [],
   "source": [
    "teamNationality_dict = teamNationality_df.set_index('teamName').to_dict()['teamNationality']"
   ]
  },
  {
   "cell_type": "code",
   "execution_count": null,
   "metadata": {},
   "outputs": [],
   "source": [
    "match_df = pd.merge(match_df, teamNationality_df, left_on = 'leftTeam', right_on = 'teamName', how = 'left')\n",
    "match_df = pd.merge(match_df, teamNationality_df, left_on = 'rightTeam', right_on = 'teamName', how = 'left')\n",
    "match_df.head()"
   ]
  },
  {
   "cell_type": "code",
   "execution_count": null,
   "metadata": {},
   "outputs": [],
   "source": [
    "match_df.drop(['teamName_x', 'teamName_y'], axis = 1, inplace = True)\n",
    "match_df.rename(columns = {'teamNationality_x' : 'leftNationality', 'teamNationality_y' : 'rightNationality'}, inplace = True)\n",
    "match_df.head()"
   ]
  },
  {
   "cell_type": "markdown",
   "metadata": {},
   "source": [
    "<h5>Check team names</h5>"
   ]
  },
  {
   "cell_type": "code",
   "execution_count": null,
   "metadata": {},
   "outputs": [],
   "source": [
    "for team in teamNationality_df['teamName']:\n",
    "    if (team in match_df['leftTeam'].values) == False:\n",
    "        print(team, team in match_df['leftTeam'].values)"
   ]
  },
  {
   "cell_type": "code",
   "execution_count": null,
   "metadata": {},
   "outputs": [],
   "source": [
    "for team in match_df['leftTeam'].unique():\n",
    "    if (team in teamNationality_df['teamName'].values) == False:\n",
    "        print(team, team in teamNationality_df['teamName'].values)"
   ]
  },
  {
   "cell_type": "markdown",
   "metadata": {},
   "source": [
    "We can remove \"Southern Kings\" and Cats from TeamNationality_df"
   ]
  },
  {
   "cell_type": "code",
   "execution_count": null,
   "metadata": {},
   "outputs": [],
   "source": [
    "teamNationality_df[(teamNationality_df['teamName'] == 'Southern Kings') | (teamNationality_df['teamName'] == 'Cats') | (teamNationality_df['teamName'] == 'undefined')]"
   ]
  },
  {
   "cell_type": "code",
   "execution_count": null,
   "metadata": {},
   "outputs": [],
   "source": [
    "teamNationality_df.drop([16, 18, 21], inplace = True)\n",
    "print('Southern Kings' in teamNationality_df['teamName'])\n",
    "print('Cats' in teamNationality_df['teamName'])"
   ]
  },
  {
   "cell_type": "markdown",
   "metadata": {},
   "source": [
    "<h5>Create penaltyDiff(l-r) column<br>leftTeam is home team, so negative value means home team has fewer penalties against</h5>\n"
   ]
  },
  {
   "cell_type": "code",
   "execution_count": null,
   "metadata": {},
   "outputs": [],
   "source": [
    "match_df['penaltyDiff(l-r)'] = match_df['leftPenalties'] - match_df['rightPenalties']\n",
    "match_df.head()"
   ]
  },
  {
   "cell_type": "markdown",
   "metadata": {},
   "source": [
    "<h5>Create scoreDiff(l-r) column<br>leftTeam is home team, so negative value means home team has fewer penalties against</h5>\n"
   ]
  },
  {
   "cell_type": "code",
   "execution_count": null,
   "metadata": {},
   "outputs": [],
   "source": [
    "match_df['scoreDiff(l-r)'] = match_df['leftScore'] - match_df['rightScore']\n",
    "match_df.head()"
   ]
  },
  {
   "cell_type": "markdown",
   "metadata": {},
   "source": [
    "<h3>Charts</h3>"
   ]
  },
  {
   "cell_type": "code",
   "execution_count": null,
   "metadata": {},
   "outputs": [],
   "source": [
    "fig = go.Figure()\n",
    "\n",
    "yAUS = match_df[match_df['refNationality'] == 'AUS']['penaltyDiff(l-r)']\n",
    "yNZL = match_df[match_df['refNationality'] == 'NZL']['penaltyDiff(l-r)']\n",
    "yZAR = match_df[match_df['refNationality'] == 'ZAR']['penaltyDiff(l-r)']\n",
    "\n",
    "f_val, p_val = stats.f_oneway(yAUS, yNZL, yZAR)\n",
    "\n",
    "fig.add_trace(go.Box(y = yAUS, name = 'Australian Refs', marker_color = '#FFBD00', boxmean = True, boxpoints = 'suspectedoutliers'))\n",
    "fig.add_trace(go.Box(y = yNZL, name = 'New Zealand Refs', marker_color = '#000000', boxmean = True, boxpoints = 'suspectedoutliers'))\n",
    "fig.add_trace(go.Box(y = yZAR, name = 'South African Refs', marker_color = '#007A4D', boxmean = True, boxpoints = 'suspectedoutliers'))\n",
    "\n",
    "fig.update_layout(title_text=\"<b>All Matches, By Ref Nationality<br>2009 - 2019</b><br>ANOVA Results: F-ratio: \" + str(round(f_val, 3)) + \", P-value: \" + str(round(p_val, 3)))\n",
    "fig.show()"
   ]
  },
  {
   "cell_type": "code",
   "execution_count": null,
   "metadata": {},
   "outputs": [],
   "source": [
    "fig = go.Figure()\n",
    "\n",
    "yAUS = match_df[(match_df['matchYear'] >= 2017) & (match_df['refNationality'] == 'AUS') & (match_df['leftNationality'] == 'AUS') & (match_df['rightNationality'] != 'AUS')]['penaltyDiff(l-r)']\n",
    "yNZL = match_df[(match_df['matchYear'] >= 2017) & (match_df['refNationality'] == 'NZL') & (match_df['leftNationality'] == 'NZL') & (match_df['rightNationality'] != 'NZL')]['penaltyDiff(l-r)']\n",
    "yZAR = match_df[(match_df['matchYear'] >= 2017) & (match_df['refNationality'] == 'ZAR') & (match_df['leftNationality'] == 'ZAR') & (match_df['rightNationality'] != 'ZAR')]['penaltyDiff(l-r)']\n",
    "\n",
    "f_val, p_val = stats.f_oneway(yAUS, yNZL, yZAR)\n",
    "\n",
    "fig.add_trace(go.Box(y = yAUS, name = 'Australian Ref and Home Team', marker_color = '#FFBD00', boxmean = True, boxpoints = 'outliers'))\n",
    "fig.add_trace(go.Box(y = yNZL, name = 'New Zealand Ref and Home Team', marker_color = '#000000', boxmean = True, boxpoints = 'outliers'))\n",
    "fig.add_trace(go.Box(y = yZAR, name = 'South African Ref and Home Team', marker_color = '#007A4D', boxmean = True, boxpoints = 'outliers'))\n",
    "\n",
    "fig.update_layout(title_text = \"<b>Per-match Penalty Difference, by Ref and Home Team Nationality: 2017 - 2019</b><br>Ref and Home Team From Same Country. Away Team From Different Country.<br>ANOVA Results: F-ratio: \" + str(round(f_val, 3)),\n",
    "                 yaxis_title = 'Penalty Difference (Home Team - Away Team)')\n",
    "fig.update_layout(showlegend = False)\n",
    "\n",
    "fig.show()"
   ]
  },
  {
   "cell_type": "code",
   "execution_count": null,
   "metadata": {},
   "outputs": [],
   "source": [
    "fig = go.Figure()\n",
    "\n",
    "yAUS = match_df[(match_df['matchYear'] >= 2017) & (match_df['refNationality'] == 'AUS') & (match_df['leftNationality'] == 'AUS') & (match_df['rightNationality'] != 'AUS')]['penaltyDiff(l-r)']\n",
    "yNZL = match_df[(match_df['matchYear'] >= 2017) & (match_df['refNationality'] == 'NZL') & (match_df['leftNationality'] == 'NZL') & (match_df['rightNationality'] != 'NZL')]['penaltyDiff(l-r)']\n",
    "yZAR = match_df[(match_df['matchYear'] >= 2017) & (match_df['refNationality'] == 'ZAR') & (match_df['leftNationality'] == 'ZAR') & (match_df['rightNationality'] != 'ZAR')]['penaltyDiff(l-r)']\n",
    "\n",
    "AUS_mean = yAUS.mean() * -1\n",
    "NZL_mean = yNZL.mean() * -1\n",
    "ZAR_mean = yZAR.mean() * -1\n",
    "\n",
    "fig = go.Figure(go.Bar(\n",
    "    x=[ZAR_mean, NZL_mean, AUS_mean],\n",
    "    y=['South African Ref and Home Team ', 'New Zealand Ref and Home Team ', 'Australian Ref and Home Team '],\n",
    "    orientation='h',\n",
    "    marker_color = ['#007A4D', '#000000', '#FFBD00']))\n",
    "\n",
    "fig.update_layout(title_text = \"<b>Average Penalty Difference, by Ref and Home Team Nationality: 2017 - 2019</b><br>Ref and Home Team From Same Country. Away Team From Different Country.\",\n",
    "                 xaxis_title = 'Average Penalty Difference In Favor of Home Team',\n",
    "                 plot_bgcolor = '#EFFFFF')\n",
    "\n",
    "fig.update_xaxes(gridcolor = '#DDDDDD')\n",
    "fig.update_yaxes(gridcolor = '#EFFFFF')\n",
    "\n",
    "fig.update_layout(showlegend = False)\n",
    "\n",
    "chart_studio.plotly.plot(fig, filename = 'homeRef_2017-2019', auto_open=False)\n",
    "\n",
    "fig.show()"
   ]
  },
  {
   "cell_type": "code",
   "execution_count": null,
   "metadata": {},
   "outputs": [],
   "source": [
    "fig = go.Figure()\n",
    "\n",
    "yAUS = match_df[(match_df['refNationality'] == 'AUS') & (match_df['leftNationality'] == 'AUS') & (match_df['rightNationality'] != 'AUS')]['penaltyDiff(l-r)']\n",
    "yNZL = match_df[(match_df['refNationality'] == 'NZL') & (match_df['leftNationality'] == 'NZL') & (match_df['rightNationality'] != 'NZL')]['penaltyDiff(l-r)']\n",
    "yZAR = match_df[(match_df['refNationality'] == 'ZAR') & (match_df['leftNationality'] == 'ZAR') & (match_df['rightNationality'] != 'ZAR')]['penaltyDiff(l-r)']\n",
    "\n",
    "f_val, p_val = stats.f_oneway(yAUS, yNZL, yZAR)\n",
    "\n",
    "fig.add_trace(go.Box(y = yAUS, name = 'Australian Ref and Home Team', marker_color = '#FFBD00', boxmean = True, boxpoints = 'suspectedoutliers'))\n",
    "fig.add_trace(go.Box(y = yNZL, name = 'New Zealand Ref and Home Team', marker_color = '#000000', boxmean = True, boxpoints = 'suspectedoutliers'))\n",
    "fig.add_trace(go.Box(y = yZAR, name = 'South African Ref and Home Team', marker_color = '#007A4D', boxmean = True, boxpoints = 'suspectedoutliers'))\n",
    "\n",
    "fig.update_layout(title_text = \"<b>Per-match Penalty Difference, by Ref and Home Team Nationality: 2009 - 2019</b><br>Ref and Home Team From Same Country. Away Team From Different Country.<br>ANOVA Results: F-ratio: \" + str(round(f_val, 3)),\n",
    "                 yaxis_title = 'Penalty Difference (Home Team - Away Team)')\n",
    "fig.update_layout(showlegend = False)\n",
    "\n",
    "fig.show()"
   ]
  },
  {
   "cell_type": "code",
   "execution_count": null,
   "metadata": {},
   "outputs": [],
   "source": [
    "yAUS = match_df[(match_df['refNationality'] == 'AUS') & (match_df['leftNationality'] == 'AUS') & (match_df['rightNationality'] != 'AUS')]['penaltyDiff(l-r)']\n",
    "yNZL = match_df[(match_df['refNationality'] == 'NZL') & (match_df['leftNationality'] == 'NZL') & (match_df['rightNationality'] != 'NZL')]['penaltyDiff(l-r)']\n",
    "yZAR = match_df[(match_df['refNationality'] == 'ZAR') & (match_df['leftNationality'] == 'ZAR') & (match_df['rightNationality'] != 'ZAR')]['penaltyDiff(l-r)']\n",
    "\n",
    "AUS_mean = yAUS.mean() * -1\n",
    "NZL_mean = yNZL.mean() * -1\n",
    "ZAR_mean = yZAR.mean() * -1\n",
    "\n",
    "fig = go.Figure(go.Bar(\n",
    "    x=[ZAR_mean, NZL_mean, AUS_mean],\n",
    "    y=['South African Ref and Home Team ', 'New Zealand Ref and Home Team ', 'Australian Ref and Home Team '],\n",
    "    orientation='h',\n",
    "    marker_color = ['#007A4D', '#000000', '#FFBD00']))\n",
    "\n",
    "fig.update_layout(title_text = \"<b>Average Penalty Difference, by Ref and Home Team Nationality: 2009 - 2019</b><br>Ref and Home Team From Same Country. Away Team From Different Country.\",\n",
    "                 xaxis_title = 'Average Penalty Difference In Favor of Home Team',\n",
    "                 plot_bgcolor = '#EFFFFF')\n",
    "\n",
    "fig.update_xaxes(gridcolor = '#DDDDDD')\n",
    "fig.update_yaxes(gridcolor = '#EFFFFF')\n",
    "\n",
    "fig.update_layout(showlegend = False)\n",
    "\n",
    "chart_studio.plotly.plot(fig, filename = 'homeRef', auto_open=False)\n",
    "\n",
    "fig.show()"
   ]
  },
  {
   "cell_type": "code",
   "execution_count": null,
   "metadata": {
    "scrolled": false
   },
   "outputs": [],
   "source": [
    "fig = go.Figure()\n",
    "\n",
    "yAUS = match_df[(match_df['refNationality'] == 'AUS') & (match_df['leftNationality'] == 'AUS') & (match_df['rightNationality'] != 'AUS')]['penaltyDiff(l-r)']\n",
    "yNZL = match_df[(match_df['refNationality'] == 'NZL') & (match_df['leftNationality'] == 'NZL') & (match_df['rightNationality'] != 'NZL')]['penaltyDiff(l-r)']\n",
    "yZAR = match_df[(match_df['refNationality'] == 'ZAR') & (match_df['leftNationality'] == 'ZAR') & (match_df['rightNationality'] != 'ZAR')]['penaltyDiff(l-r)']\n",
    "\n",
    "f_val, p_val = stats.f_oneway(yAUS, yNZL, yZAR)\n",
    "\n",
    "fig.add_trace(go.Box(y = yAUS, name = 'Australian Ref and Home Team', marker_color = '#FFBD00', boxmean = True, boxpoints = 'outliers'))\n",
    "fig.add_trace(go.Box(y = yNZL, name = 'New Zealand Ref and Home Team', marker_color = '#000000', boxmean = True, boxpoints = 'outliers'))\n",
    "fig.add_trace(go.Box(y = yZAR, name = 'South African Refand Home Team', marker_color = '#007A4D', boxmean = True, boxpoints = 'outliers'))\n",
    "\n",
    "fig.update_layout(title_text = \"<b>Per-match Penalty Difference, by Ref and Home Team Nationality: 2009 - 2019</b><br>Ref and Home Team From Same Country. Away Team From Different Country.<br>ANOVA Results: F-ratio: \" + str(round(f_val, 3)),\n",
    "                 yaxis_title = 'Penalty Difference (Home Team - Away Team)')\n",
    "fig.update_layout(showlegend = False)\n",
    "\n",
    "fig.show()"
   ]
  },
  {
   "cell_type": "code",
   "execution_count": null,
   "metadata": {},
   "outputs": [],
   "source": [
    "yAUS_neu = match_df[(match_df['refNationality'] == 'AUS') & (match_df['leftNationality'] == 'ZAR') & (match_df['rightNationality'] != 'ZAR') & (match_df['rightNationality'] != 'AUS')]['penaltyDiff(l-r)']\n",
    "yAUS_non = match_df[(match_df['refNationality'] == 'AUS') & (match_df['leftNationality'] == 'ZAR') & (match_df['rightNationality'] == 'AUS')]['penaltyDiff(l-r)']\n",
    "\n",
    "yNZL_neu = match_df[(match_df['refNationality'] == 'NZL') & (match_df['leftNationality'] == 'ZAR') & (match_df['rightNationality'] != 'ZAR') & (match_df['rightNationality'] != 'NZL')]['penaltyDiff(l-r)']\n",
    "yNZL_non = match_df[(match_df['refNationality'] == 'NZL') & (match_df['leftNationality'] == 'ZAR') & (match_df['rightNationality'] == 'NZL')]['penaltyDiff(l-r)']\n",
    "\n",
    "yZAR_non = match_df[(match_df['refNationality'] == 'ZAR') & (match_df['leftNationality'] == 'ZAR') & (match_df['rightNationality'] != 'ZAR')]['penaltyDiff(l-r)']\n",
    "\n",
    "neutralAverage = match_df[((match_df['refNationality'] == 'AUS') | ((match_df['refNationality'] == 'NZL'))) & (match_df['leftNationality'] == 'ZAR') & (match_df['rightNationality'] != 'ZAR') & (match_df['rightNationality'] != match_df['refNationality'])]['penaltyDiff(l-r)'].mean()\n",
    "\n",
    "neutralAverage *= -1\n",
    "\n",
    "neuAUS_mean = yAUS_neu.mean() * -1\n",
    "nonAUS_mean = yAUS_non.mean() * -1\n",
    "neuNZL_mean = yNZL_neu.mean() * -1\n",
    "nonNZL_mean = yNZL_non.mean() * -1\n",
    "nonZAR_mean = yZAR_non.mean() * -1\n",
    "\n",
    "fig = go.Figure(go.Bar(\n",
    "    x=[nonZAR_mean, nonNZL_mean, nonAUS_mean, neuNZL_mean, neuAUS_mean],\n",
    "    y=['Non-neutral South African Ref ', 'Non-neutral New Zealand Ref ', 'Non-neutral Australian Ref ', 'Neutral New Zealand Ref ', 'Neutral Australian Ref '],\n",
    "    orientation='h',\n",
    "    marker_color = ['#007A4D', '#000000', '#FFBD00', '#DEDEDE', '#DEDEDE'],\n",
    "    showlegend = False))\n",
    "\n",
    "fig.add_trace(go.Scatter(\n",
    "    x=[1],\n",
    "    y=[5],\n",
    "    marker = {'color' : \"#FF0000\"},\n",
    "    mode = 'lines',\n",
    "    visible='legendonly',\n",
    "    name = \"Average of Neutral Means: \" + str(round(neutralAverage, 2))\n",
    "))\n",
    "\n",
    "fig.add_shape(type=\"line\",\n",
    "              x0 = neutralAverage, x1 = neutralAverage,\n",
    "              yref = 'paper',\n",
    "              y0 = 0, y1 = 1,\n",
    "              line = {'color' : \"#FF9999\"}\n",
    "            )\n",
    "\n",
    "fig.update_layout(title_text=\"<b>Average Penalty Difference by Ref Nationality and Neutrality, 2009 - 2019</b><br>Home team from South Africa. Away team not from South Africa.\",\n",
    "                 xaxis_title = 'Average Penalty Difference in Favor of Home Team',\n",
    "                 plot_bgcolor = '#EFFFFF')\n",
    "\n",
    "fig.update_xaxes(gridcolor = '#DDDDDD')\n",
    "fig.update_yaxes(gridcolor = '#EFFFFF')\n",
    "\n",
    "fig.update_layout(\n",
    "    legend = dict(\n",
    "    yanchor=\"top\",\n",
    "    y=0.99,\n",
    "    xanchor=\"right\",\n",
    "    x=0.99\n",
    "))\n",
    "\n",
    "chart_studio.plotly.plot(fig, filename = 'homeSA_awayNonSA', auto_open=False)\n",
    "\n",
    "fig.show()"
   ]
  },
  {
   "cell_type": "code",
   "execution_count": null,
   "metadata": {},
   "outputs": [],
   "source": [
    "fig = go.Figure()\n",
    "\n",
    "yAUS_non = match_df[(match_df['refNationality'] == 'AUS') & (match_df['leftNationality'] == 'ZAR') & (match_df['rightNationality'] == 'AUS')]['penaltyDiff(l-r)'].mean()\n",
    "yNZL_non = match_df[(match_df['refNationality'] == 'NZL') & (match_df['leftNationality'] == 'ZAR') & (match_df['rightNationality'] == 'NZL')]['penaltyDiff(l-r)'].mean()\n",
    "yZAR_non = match_df[(match_df['refNationality'] == 'ZAR') & (match_df['leftNationality'] == 'ZAR') & (match_df['rightNationality'] != 'ZAR')]['penaltyDiff(l-r)'].mean()\n",
    "\n",
    "neutralAverage = match_df[((match_df['refNationality'] == 'AUS') | ((match_df['refNationality'] == 'NZL'))) & (match_df['leftNationality'] == 'ZAR') & (match_df['rightNationality'] != 'ZAR') & (match_df['rightNationality'] != match_df['refNationality'])]['penaltyDiff(l-r)'].mean()\n",
    "\n",
    "x = [abs(yZAR_non - neutralAverage), abs(yNZL_non - neutralAverage), abs(yAUS_non - neutralAverage)]\n",
    "y = ['Non-neutral South African Refs ', 'Non-neutral New Zealand Refs ', 'Non-neutral Australian Refs ']\n",
    "\n",
    "fig.add_trace(go.Bar(x = x,\n",
    "                     y = y,\n",
    "                     orientation = 'h',\n",
    "                     marker_color = ['#007A4D', '#000000', '#FFBD00'],\n",
    "                     showlegend = False))\n",
    "\n",
    "fig.update_layout(title_text=\"<b>Dissimilarity Between Neutral Average and Non-neutral Penalty Difference, 2009 - 2019</b><br>Home team from South Africa. Away team not from South Africa.\",\n",
    "                 xaxis_title = 'Dissimilarity Between Neutral and Non-neutral Penalty Difference',\n",
    "                 plot_bgcolor = '#EFFFFF')\n",
    "\n",
    "fig.update_xaxes(gridcolor = '#DDDDDD')\n",
    "fig.update_yaxes(gridcolor = '#EFFFFF')\n",
    "\n",
    "chart_studio.plotly.plot(fig, filename = 'diff_non-neu', auto_open = False)\n",
    "\n",
    "fig.show()"
   ]
  },
  {
   "cell_type": "code",
   "execution_count": null,
   "metadata": {},
   "outputs": [],
   "source": [
    "fig = go.Figure()\n",
    "\n",
    "yAUS_neu = match_df[(match_df['matchYear'] >= 2017) & (match_df['refNationality'] == 'AUS') & (match_df['leftNationality'] == 'ZAR') & (match_df['rightNationality'] != 'ZAR') & (match_df['rightNationality'] != 'AUS')]['penaltyDiff(l-r)']\n",
    "yAUS_non = match_df[(match_df['matchYear'] >= 2017) & (match_df['refNationality'] == 'AUS') & (match_df['leftNationality'] == 'ZAR') & (match_df['rightNationality'] == 'AUS')]['penaltyDiff(l-r)']\n",
    "\n",
    "yNZL_neu = match_df[(match_df['matchYear'] >= 2017) & (match_df['refNationality'] == 'NZL') & (match_df['leftNationality'] == 'ZAR') & (match_df['rightNationality'] != 'ZAR') & (match_df['rightNationality'] != 'NZL')]['penaltyDiff(l-r)']\n",
    "yNZL_non = match_df[(match_df['matchYear'] >= 2017) & (match_df['refNationality'] == 'NZL') & (match_df['leftNationality'] == 'ZAR') & (match_df['rightNationality'] == 'NZL')]['penaltyDiff(l-r)']\n",
    "\n",
    "yZAR_non = match_df[(match_df['matchYear'] >= 2017) & (match_df['refNationality'] == 'ZAR') & (match_df['leftNationality'] == 'ZAR') & (match_df['rightNationality'] != 'ZAR')]['penaltyDiff(l-r)']\n",
    "\n",
    "f_val, p_val = stats.f_oneway(yAUS_neu, yAUS_non, yNZL_neu, yNZL_non, yZAR_non)\n",
    "\n",
    "fig.add_trace(go.Box(y = yAUS_neu, name = 'Australian Refs, Neutral', marker_color = '#DD9B00', boxmean = True,  boxpoints = 'outliers'))\n",
    "fig.add_trace(go.Box(y = yAUS_non, name = 'Australian Refs, Not Neutral', marker_color = '#FFBD00', boxmean = True, boxpoints = 'outliers'))\n",
    "\n",
    "fig.add_trace(go.Box(y = yNZL_neu, name = 'New Zealand Refs, Neutral', marker_color = '#666666', boxmean = True, boxpoints = 'outliers'))\n",
    "fig.add_trace(go.Box(y = yNZL_non, name = 'New Zealand Refs, Not Neutral', marker_color = '#000000', boxmean = True, boxpoints = 'outliers'))\n",
    "\n",
    "fig.add_trace(go.Box(y = yZAR_non, name = 'South African Refs, not Neutral', marker_color = '#007A4D', boxmean = True, boxpoints = 'outliers'))\n",
    "\n",
    "fig.update_layout(title_text=\"<b>Per-match Penalty Difference by Ref Nationality and Neutrality, 2017 - 2019</b><br>Home team from South Africa. Away team not from South Africa.<br>ANOVA Results: F-ratio: \" + str(round(f_val, 3)),\n",
    "                 yaxis_title = 'Penalty Difference (Home Team - Away Team)')\n",
    "fig.update_layout(showlegend = False)\n",
    "\n",
    "fig.show()"
   ]
  },
  {
   "cell_type": "code",
   "execution_count": null,
   "metadata": {},
   "outputs": [],
   "source": []
  }
 ],
 "metadata": {
  "kernelspec": {
   "display_name": "Python 3",
   "language": "python",
   "name": "python3"
  },
  "language_info": {
   "codemirror_mode": {
    "name": "ipython",
    "version": 3
   },
   "file_extension": ".py",
   "mimetype": "text/x-python",
   "name": "python",
   "nbconvert_exporter": "python",
   "pygments_lexer": "ipython3",
   "version": "3.7.3"
  }
 },
 "nbformat": 4,
 "nbformat_minor": 2
}
